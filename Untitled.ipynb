{
 "cells": [
  {
   "cell_type": "code",
   "execution_count": 1,
   "id": "00092d80-88f0-4244-8d3e-b4ba85f50f63",
   "metadata": {},
   "outputs": [
    {
     "name": "stdout",
     "output_type": "stream",
     "text": [
      "Requirement already satisfied: numpy in ./venv/lib/python3.12/site-packages (1.26.4)\n",
      "Requirement already satisfied: paddlepaddle-gpu in ./venv/lib/python3.12/site-packages (2.6.1)\n",
      "Requirement already satisfied: httpx in ./venv/lib/python3.12/site-packages (from paddlepaddle-gpu) (0.27.0)\n",
      "Requirement already satisfied: numpy>=1.13 in ./venv/lib/python3.12/site-packages (from paddlepaddle-gpu) (1.26.4)\n",
      "Requirement already satisfied: Pillow in ./venv/lib/python3.12/site-packages (from paddlepaddle-gpu) (10.4.0)\n",
      "Requirement already satisfied: decorator in ./venv/lib/python3.12/site-packages (from paddlepaddle-gpu) (5.1.1)\n",
      "Requirement already satisfied: astor in ./venv/lib/python3.12/site-packages (from paddlepaddle-gpu) (0.8.1)\n",
      "Requirement already satisfied: opt-einsum==3.3.0 in ./venv/lib/python3.12/site-packages (from paddlepaddle-gpu) (3.3.0)\n",
      "Requirement already satisfied: protobuf>=3.20.2 in ./venv/lib/python3.12/site-packages (from paddlepaddle-gpu) (5.27.2)\n",
      "Requirement already satisfied: anyio in ./venv/lib/python3.12/site-packages (from httpx->paddlepaddle-gpu) (4.4.0)\n",
      "Requirement already satisfied: certifi in ./venv/lib/python3.12/site-packages (from httpx->paddlepaddle-gpu) (2024.2.2)\n",
      "Requirement already satisfied: httpcore==1.* in ./venv/lib/python3.12/site-packages (from httpx->paddlepaddle-gpu) (1.0.5)\n",
      "Requirement already satisfied: idna in ./venv/lib/python3.12/site-packages (from httpx->paddlepaddle-gpu) (3.7)\n",
      "Requirement already satisfied: sniffio in ./venv/lib/python3.12/site-packages (from httpx->paddlepaddle-gpu) (1.3.1)\n",
      "Requirement already satisfied: h11<0.15,>=0.13 in ./venv/lib/python3.12/site-packages (from httpcore==1.*->httpx->paddlepaddle-gpu) (0.14.0)\n",
      "Requirement already satisfied: paddleocr in ./venv/lib/python3.12/site-packages (2.8.0)\n",
      "Requirement already satisfied: shapely in ./venv/lib/python3.12/site-packages (from paddleocr) (2.0.4)\n",
      "Requirement already satisfied: scikit-image in ./venv/lib/python3.12/site-packages (from paddleocr) (0.24.0)\n",
      "Requirement already satisfied: imgaug in ./venv/lib/python3.12/site-packages (from paddleocr) (0.4.0)\n",
      "Requirement already satisfied: pyclipper in ./venv/lib/python3.12/site-packages (from paddleocr) (1.3.0.post5)\n",
      "Requirement already satisfied: lmdb in ./venv/lib/python3.12/site-packages (from paddleocr) (1.5.1)\n",
      "Requirement already satisfied: tqdm in ./venv/lib/python3.12/site-packages (from paddleocr) (4.66.4)\n",
      "Requirement already satisfied: numpy<2.0 in ./venv/lib/python3.12/site-packages (from paddleocr) (1.26.4)\n",
      "Requirement already satisfied: rapidfuzz in ./venv/lib/python3.12/site-packages (from paddleocr) (3.9.4)\n",
      "Requirement already satisfied: opencv-python in ./venv/lib/python3.12/site-packages (from paddleocr) (4.10.0.84)\n",
      "Requirement already satisfied: opencv-contrib-python in ./venv/lib/python3.12/site-packages (from paddleocr) (4.10.0.84)\n",
      "Requirement already satisfied: cython in ./venv/lib/python3.12/site-packages (from paddleocr) (3.0.10)\n",
      "Requirement already satisfied: Pillow in ./venv/lib/python3.12/site-packages (from paddleocr) (10.4.0)\n",
      "Requirement already satisfied: pyyaml in ./venv/lib/python3.12/site-packages (from paddleocr) (6.0.1)\n",
      "Requirement already satisfied: python-docx in ./venv/lib/python3.12/site-packages (from paddleocr) (1.1.2)\n",
      "Requirement already satisfied: beautifulsoup4 in ./venv/lib/python3.12/site-packages (from paddleocr) (4.12.3)\n",
      "Requirement already satisfied: fonttools>=4.24.0 in ./venv/lib/python3.12/site-packages (from paddleocr) (4.53.1)\n",
      "Requirement already satisfied: fire>=0.3.0 in ./venv/lib/python3.12/site-packages (from paddleocr) (0.6.0)\n",
      "Requirement already satisfied: six in ./venv/lib/python3.12/site-packages (from fire>=0.3.0->paddleocr) (1.16.0)\n",
      "Requirement already satisfied: termcolor in ./venv/lib/python3.12/site-packages (from fire>=0.3.0->paddleocr) (2.4.0)\n",
      "Requirement already satisfied: soupsieve>1.2 in ./venv/lib/python3.12/site-packages (from beautifulsoup4->paddleocr) (2.5)\n",
      "Requirement already satisfied: scipy in ./venv/lib/python3.12/site-packages (from imgaug->paddleocr) (1.14.0)\n",
      "Requirement already satisfied: matplotlib in ./venv/lib/python3.12/site-packages (from imgaug->paddleocr) (3.9.1)\n",
      "Requirement already satisfied: imageio in ./venv/lib/python3.12/site-packages (from imgaug->paddleocr) (2.34.2)\n",
      "Requirement already satisfied: networkx>=2.8 in ./venv/lib/python3.12/site-packages (from scikit-image->paddleocr) (3.3)\n",
      "Requirement already satisfied: tifffile>=2022.8.12 in ./venv/lib/python3.12/site-packages (from scikit-image->paddleocr) (2024.7.2)\n",
      "Requirement already satisfied: packaging>=21 in ./venv/lib/python3.12/site-packages (from scikit-image->paddleocr) (24.1)\n",
      "Requirement already satisfied: lazy-loader>=0.4 in ./venv/lib/python3.12/site-packages (from scikit-image->paddleocr) (0.4)\n",
      "Requirement already satisfied: lxml>=3.1.0 in ./venv/lib/python3.12/site-packages (from python-docx->paddleocr) (5.2.2)\n",
      "Requirement already satisfied: typing-extensions>=4.9.0 in ./venv/lib/python3.12/site-packages (from python-docx->paddleocr) (4.12.2)\n",
      "Requirement already satisfied: contourpy>=1.0.1 in ./venv/lib/python3.12/site-packages (from matplotlib->imgaug->paddleocr) (1.2.1)\n",
      "Requirement already satisfied: cycler>=0.10 in ./venv/lib/python3.12/site-packages (from matplotlib->imgaug->paddleocr) (0.12.1)\n",
      "Requirement already satisfied: kiwisolver>=1.3.1 in ./venv/lib/python3.12/site-packages (from matplotlib->imgaug->paddleocr) (1.4.5)\n",
      "Requirement already satisfied: pyparsing>=2.3.1 in ./venv/lib/python3.12/site-packages (from matplotlib->imgaug->paddleocr) (3.1.2)\n",
      "Requirement already satisfied: python-dateutil>=2.7 in ./venv/lib/python3.12/site-packages (from matplotlib->imgaug->paddleocr) (2.9.0.post0)\n",
      "Requirement already satisfied: opencv-python in ./venv/lib/python3.12/site-packages (4.10.0.84)\n",
      "Requirement already satisfied: numpy>=1.21.2 in ./venv/lib/python3.12/site-packages (from opencv-python) (1.26.4)\n",
      "Requirement already satisfied: setuptools in ./venv/lib/python3.12/site-packages (70.2.0)\n"
     ]
    }
   ],
   "source": [
    "!pip install numpy\n",
    "!pip install paddlepaddle-gpu\n",
    "!pip install paddleocr\n",
    "!pip install opencv-python\n",
    "!pip install setuptools"
   ]
  },
  {
   "cell_type": "code",
   "execution_count": 2,
   "id": "429adab9-e647-46c3-a444-e9e91ff32361",
   "metadata": {},
   "outputs": [
    {
     "name": "stdout",
     "output_type": "stream",
     "text": [
      "boxes.json  requirements.txt  \u001b[0m\u001b[01;34mtemplates\u001b[0m/  webgui.py\n",
      "main.py     \u001b[01;34mstatic\u001b[0m/           ttxsh.mp4\n"
     ]
    }
   ],
   "source": [
    "!ls tools/extract_subtitles/"
   ]
  },
  {
   "cell_type": "code",
   "execution_count": 32,
   "id": "74a75c0a-e173-4fb8-8f5a-903e6073c3ce",
   "metadata": {},
   "outputs": [],
   "source": [
    "import cv2 as cv\n",
    "video = cv.VideoCapture(\"tools/extract_subtitles/ttxsh.mp4\")\n",
    "video.set(cv.CAP_PROP_POS_MSEC, 0)\n",
    "ret, frame = video.read()"
   ]
  },
  {
   "cell_type": "code",
   "execution_count": 35,
   "id": "5b34f94f-0056-43d7-b546-8e78041fb17e",
   "metadata": {},
   "outputs": [
    {
     "name": "stdout",
     "output_type": "stream",
     "text": [
      "[2024/07/08 20:24:04] ppocr DEBUG: Namespace(help='==SUPPRESS==', use_gpu=True, use_xpu=False, use_npu=False, use_mlu=False, ir_optim=True, use_tensorrt=False, min_subgraph_size=15, precision='fp32', gpu_mem=500, gpu_id=0, image_dir=None, page_num=0, det_algorithm='DB', det_model_dir='/home/asv/.paddleocr/whl/det/ch/ch_PP-OCRv4_det_infer', det_limit_side_len=960, det_limit_type='max', det_box_type='quad', det_db_thresh=0.3, det_db_box_thresh=0.6, det_db_unclip_ratio=1.5, max_batch_size=10, use_dilation=False, det_db_score_mode='fast', det_east_score_thresh=0.8, det_east_cover_thresh=0.1, det_east_nms_thresh=0.2, det_sast_score_thresh=0.5, det_sast_nms_thresh=0.2, det_pse_thresh=0, det_pse_box_thresh=0.85, det_pse_min_area=16, det_pse_scale=1, scales=[8, 16, 32], alpha=1.0, beta=1.0, fourier_degree=5, rec_algorithm='SVTR_LCNet', rec_model_dir='/home/asv/.paddleocr/whl/rec/ch/ch_PP-OCRv4_rec_infer', rec_image_inverse=True, rec_image_shape='3, 48, 320', rec_batch_num=6, max_text_length=25, rec_char_dict_path='/home/asv/aprender-chines/venv/lib/python3.12/site-packages/paddleocr/ppocr/utils/ppocr_keys_v1.txt', use_space_char=True, vis_font_path='./doc/fonts/simfang.ttf', drop_score=0.5, e2e_algorithm='PGNet', e2e_model_dir=None, e2e_limit_side_len=768, e2e_limit_type='max', e2e_pgnet_score_thresh=0.5, e2e_char_dict_path='./ppocr/utils/ic15_dict.txt', e2e_pgnet_valid_set='totaltext', e2e_pgnet_mode='fast', use_angle_cls=False, cls_model_dir='/home/asv/.paddleocr/whl/cls/ch_ppocr_mobile_v2.0_cls_infer', cls_image_shape='3, 48, 192', label_list=['0', '180'], cls_batch_num=6, cls_thresh=0.9, enable_mkldnn=False, cpu_threads=10, use_pdserving=False, warmup=False, sr_model_dir=None, sr_image_shape='3, 32, 128', sr_batch_num=1, draw_img_save_dir='./inference_results', save_crop_res=False, crop_res_save_dir='./output', use_mp=False, total_process_num=1, process_id=0, benchmark=False, save_log_path='./log_output/', show_log=True, use_onnx=False, return_word_box=False, output='./output', table_max_len=488, table_algorithm='TableAttn', table_model_dir=None, merge_no_span_structure=True, table_char_dict_path=None, layout_model_dir=None, layout_dict_path=None, layout_score_threshold=0.5, layout_nms_threshold=0.5, kie_algorithm='LayoutXLM', ser_model_dir=None, re_model_dir=None, use_visual_backbone=True, ser_dict_path='../train_data/XFUND/class_list_xfun.txt', ocr_order_method=None, mode='structure', image_orientation=False, layout=True, table=True, ocr=True, recovery=False, use_pdf2docx_api=False, invert=False, binarize=False, alphacolor=(255, 255, 255), lang='ch', det=True, rec=True, type='ocr', savefile=False, ocr_version='PP-OCRv4', structure_version='PP-StructureV2')\n",
      "[2024/07/08 20:24:05] ppocr WARNING: Since the angle classifier is not initialized, it will not be used during the forward process\n",
      "[2024/07/08 20:24:05] ppocr DEBUG: dt_boxes num : 0, elapsed : 0.013529539108276367\n",
      "[2024/07/08 20:24:05] ppocr DEBUG: rec_res num  : 0, elapsed : 4.76837158203125e-07\n"
     ]
    }
   ],
   "source": [
    "from paddleocr import PaddleOCR\n",
    "ocr = PaddleOCR(lang=\"ch\")\n",
    "result = ocr.ocr(frame[0:10, 0:10])"
   ]
  },
  {
   "cell_type": "code",
   "execution_count": 37,
   "id": "7645ae5f-6661-4bce-a16c-750e0c12cd77",
   "metadata": {},
   "outputs": [
    {
     "data": {
      "text/plain": [
       "[None]"
      ]
     },
     "execution_count": 37,
     "metadata": {},
     "output_type": "execute_result"
    }
   ],
   "source": [
    "result"
   ]
  },
  {
   "cell_type": "code",
   "execution_count": 42,
   "id": "c836019f-30c0-417f-b706-aa162aeb7528",
   "metadata": {},
   "outputs": [
    {
     "data": {
      "text/plain": [
       "<Logger ppocr (DEBUG)>"
      ]
     },
     "execution_count": 42,
     "metadata": {},
     "output_type": "execute_result"
    }
   ],
   "source": [
    "import logging\n",
    "logging.getLogger(\"ppocr\")"
   ]
  },
  {
   "cell_type": "code",
   "execution_count": null,
   "id": "f1512066-a527-4309-a16b-cf524424c255",
   "metadata": {},
   "outputs": [],
   "source": []
  }
 ],
 "metadata": {
  "kernelspec": {
   "display_name": "myenv",
   "language": "python",
   "name": "myenv"
  },
  "language_info": {
   "codemirror_mode": {
    "name": "ipython",
    "version": 3
   },
   "file_extension": ".py",
   "mimetype": "text/x-python",
   "name": "python",
   "nbconvert_exporter": "python",
   "pygments_lexer": "ipython3",
   "version": "3.12.4"
  }
 },
 "nbformat": 4,
 "nbformat_minor": 5
}
