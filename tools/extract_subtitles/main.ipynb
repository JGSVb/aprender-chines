{
 "cells": [
  {
   "cell_type": "code",
   "execution_count": 1,
   "id": "6ca1c743-be5f-41ec-86ae-2ae512c31ef5",
   "metadata": {},
   "outputs": [],
   "source": [
    "import main"
   ]
  },
  {
   "cell_type": "code",
   "execution_count": 2,
   "id": "f4561e83-cfc6-4e96-bc44-f319c03dd7f1",
   "metadata": {},
   "outputs": [
    {
     "name": "stdout",
     "output_type": "stream",
     "text": [
      "143699.0\n"
     ]
    }
   ],
   "source": [
    "es = main.SubtitlesExtractor(\"ttxsh.mp4\")\n",
    "print(es.framecount)"
   ]
  },
  {
   "cell_type": "code",
   "execution_count": 3,
   "id": "19c2e5a8-7249-4ffc-aa3f-00a6a13d86df",
   "metadata": {},
   "outputs": [],
   "source": [
    "import json\n",
    "fp = open(\"boxes.json\", \"r\")\n",
    "boxes = json.load(fp)\n",
    "fp.close()"
   ]
  },
  {
   "cell_type": "code",
   "execution_count": 4,
   "id": "aac9ff7e-c6d9-4718-8b14-aff6638cbf76",
   "metadata": {},
   "outputs": [
    {
     "ename": "AssertionError",
     "evalue": "",
     "output_type": "error",
     "traceback": [
      "\u001b[0;31m---------------------------------------------------------------------------\u001b[0m",
      "\u001b[0;31mAssertionError\u001b[0m                            Traceback (most recent call last)",
      "Cell \u001b[0;32mIn[4], line 1\u001b[0m\n\u001b[0;32m----> 1\u001b[0m subtitles \u001b[38;5;241m=\u001b[39m \u001b[43mes\u001b[49m\u001b[38;5;241;43m.\u001b[39;49m\u001b[43mextract_from_box\u001b[49m\u001b[43m(\u001b[49m\u001b[43mboxes\u001b[49m\u001b[43m[\u001b[49m\u001b[38;5;241;43m0\u001b[39;49m\u001b[43m]\u001b[49m\u001b[43m,\u001b[49m\u001b[43m \u001b[49m\u001b[38;5;241;43m10\u001b[39;49m\u001b[43m)\u001b[49m\n",
      "File \u001b[0;32m~/aprender-chines/tools/extract_subtitles/main.py:101\u001b[0m, in \u001b[0;36mSubtitlesExtractor.extract_from_box\u001b[0;34m(self, box, fps)\u001b[0m\n\u001b[1;32m     98\u001b[0m subtitles \u001b[38;5;241m=\u001b[39m []\n\u001b[1;32m    100\u001b[0m \u001b[38;5;28;01mfor\u001b[39;00m f \u001b[38;5;129;01min\u001b[39;00m \u001b[38;5;28mrange\u001b[39m(frame_start, frame_end, step):\n\u001b[0;32m--> 101\u001b[0m \tst \u001b[38;5;241m=\u001b[39m \u001b[38;5;28;43mself\u001b[39;49m\u001b[38;5;241;43m.\u001b[39;49m\u001b[43mextract_at_frame\u001b[49m\u001b[43m(\u001b[49m\u001b[43mf\u001b[49m\u001b[43m,\u001b[49m\u001b[43m \u001b[49m\u001b[43mbox\u001b[49m\u001b[43m)\u001b[49m\n\u001b[1;32m    103\u001b[0m \t\u001b[38;5;28;01mif\u001b[39;00m st:\n\u001b[1;32m    104\u001b[0m \t\tsubtitles\u001b[38;5;241m.\u001b[39mappend(st)\n",
      "File \u001b[0;32m~/aprender-chines/tools/extract_subtitles/main.py:79\u001b[0m, in \u001b[0;36mSubtitlesExtractor.extract_at_frame\u001b[0;34m(self, frame_id, box)\u001b[0m\n\u001b[1;32m     78\u001b[0m \u001b[38;5;28;01mdef\u001b[39;00m \u001b[38;5;21mextract_at_frame\u001b[39m(\u001b[38;5;28mself\u001b[39m, frame_id, box):\n\u001b[0;32m---> 79\u001b[0m \tresult \u001b[38;5;241m=\u001b[39m \u001b[38;5;28;43mself\u001b[39;49m\u001b[38;5;241;43m.\u001b[39;49m\u001b[43mocr_at_frame\u001b[49m\u001b[43m(\u001b[49m\u001b[43mframe_id\u001b[49m\u001b[43m)\u001b[49m\n\u001b[1;32m     81\u001b[0m \t\u001b[38;5;28;01mif\u001b[39;00m \u001b[38;5;129;01mnot\u001b[39;00m result:\n\u001b[1;32m     82\u001b[0m \t\t\u001b[38;5;28;01mreturn\u001b[39;00m \u001b[38;5;28;01mNone\u001b[39;00m\n",
      "File \u001b[0;32m~/aprender-chines/tools/extract_subtitles/main.py:36\u001b[0m, in \u001b[0;36mSubtitlesExtractor.__init__.<locals>.ocr_at_frame\u001b[0;34m(frame_id)\u001b[0m\n\u001b[1;32m     35\u001b[0m \u001b[38;5;28;01mdef\u001b[39;00m \u001b[38;5;21mocr_at_frame\u001b[39m(frame_id):\n\u001b[0;32m---> 36\u001b[0m \t\u001b[38;5;28;01mreturn\u001b[39;00m \u001b[38;5;28;43mself\u001b[39;49m\u001b[38;5;241;43m.\u001b[39;49m\u001b[43mocr\u001b[49m\u001b[38;5;241;43m.\u001b[39;49m\u001b[43mocr\u001b[49m\u001b[43m(\u001b[49m\u001b[38;5;28;43mself\u001b[39;49m\u001b[38;5;241;43m.\u001b[39;49m\u001b[43mread_frame\u001b[49m\u001b[43m(\u001b[49m\u001b[43mframe_id\u001b[49m\u001b[43m)\u001b[49m\u001b[43m)\u001b[49m\n",
      "File \u001b[0;32m~/aprender-chines/venv/lib/python3.12/site-packages/paddleocr/paddleocr.py:698\u001b[0m, in \u001b[0;36mPaddleOCR.ocr\u001b[0;34m(self, img, det, rec, cls, bin, inv, alpha_color, slice)\u001b[0m\n\u001b[1;32m    674\u001b[0m \u001b[38;5;28;01mdef\u001b[39;00m \u001b[38;5;21mocr\u001b[39m(\n\u001b[1;32m    675\u001b[0m     \u001b[38;5;28mself\u001b[39m,\n\u001b[1;32m    676\u001b[0m     img,\n\u001b[0;32m   (...)\u001b[0m\n\u001b[1;32m    683\u001b[0m     \u001b[38;5;28mslice\u001b[39m\u001b[38;5;241m=\u001b[39m{},\n\u001b[1;32m    684\u001b[0m ):\n\u001b[1;32m    685\u001b[0m \u001b[38;5;250m    \u001b[39m\u001b[38;5;124;03m\"\"\"\u001b[39;00m\n\u001b[1;32m    686\u001b[0m \u001b[38;5;124;03m    OCR with PaddleOCR\u001b[39;00m\n\u001b[1;32m    687\u001b[0m \n\u001b[0;32m   (...)\u001b[0m\n\u001b[1;32m    696\u001b[0m \u001b[38;5;124;03m        slice: use sliding window inference for large images, det and rec must be True. Requires int values for slice[\"horizontal_stride\"], slice[\"vertical_stride\"], slice[\"merge_x_thres\"], slice[\"merge_y_thres] (See doc/doc_en/slice_en.md). Default is {}.\u001b[39;00m\n\u001b[1;32m    697\u001b[0m \u001b[38;5;124;03m    \"\"\"\u001b[39;00m\n\u001b[0;32m--> 698\u001b[0m     \u001b[38;5;28;01massert\u001b[39;00m \u001b[38;5;28misinstance\u001b[39m(img, (np\u001b[38;5;241m.\u001b[39mndarray, \u001b[38;5;28mlist\u001b[39m, \u001b[38;5;28mstr\u001b[39m, \u001b[38;5;28mbytes\u001b[39m))\n\u001b[1;32m    699\u001b[0m     \u001b[38;5;28;01mif\u001b[39;00m \u001b[38;5;28misinstance\u001b[39m(img, \u001b[38;5;28mlist\u001b[39m) \u001b[38;5;129;01mand\u001b[39;00m det \u001b[38;5;241m==\u001b[39m \u001b[38;5;28;01mTrue\u001b[39;00m:\n\u001b[1;32m    700\u001b[0m         logger\u001b[38;5;241m.\u001b[39merror(\u001b[38;5;124m\"\u001b[39m\u001b[38;5;124mWhen input a list of images, det must be false\u001b[39m\u001b[38;5;124m\"\u001b[39m)\n",
      "\u001b[0;31mAssertionError\u001b[0m: "
     ]
    }
   ],
   "source": [
    "subtitles = es.extract_from_box(boxes[0], 10)"
   ]
  },
  {
   "cell_type": "code",
   "execution_count": null,
   "id": "3e9574a9-b2c6-47ca-a151-11ba5e1b1624",
   "metadata": {},
   "outputs": [],
   "source": [
    "from Levenshtein import ratio, median"
   ]
  },
  {
   "cell_type": "code",
   "execution_count": null,
   "id": "da0dc037-114a-4739-beac-9f3f3cbd0faa",
   "metadata": {},
   "outputs": [],
   "source": [
    "class Subtitle:\n",
    "    def __init__(self, text, t_start, t_end):\n",
    "        self.text = text\n",
    "        self.t_start = t_start\n",
    "        self.t_end = t_end    "
   ]
  },
  {
   "cell_type": "code",
   "execution_count": null,
   "id": "8d8dd421-69ed-4df0-b9bc-54780a191a2c",
   "metadata": {},
   "outputs": [],
   "source": [
    "def group_subtitles_by_sim(subtitles: list, min_sim):\n",
    "    subtitles_groups = []\n",
    "    length = len(subtitles)\n",
    "\n",
    "    # Agrupar legendas parecidas em grupos\n",
    "    x = 0\n",
    "    while x < length:\n",
    "        x_sub = subtitles[x]\n",
    "        group = [x_sub, ]\n",
    "        y = x + 1\n",
    "        while y < length:\n",
    "            y_sub = subtitles[y]\n",
    "            if ratio(x_sub.text.replace(\" \", \"\"), y_sub.text.replace(\" \", \"\")) >= min_sim:\n",
    "                group.append(y_sub)\n",
    "            else:\n",
    "                x = y\n",
    "                break\n",
    "            y += 1\n",
    "        subtitles_groups.append(group)\n",
    "        x += 1\n",
    "                        \n",
    "    return subtitles_groups"
   ]
  },
  {
   "cell_type": "code",
   "execution_count": null,
   "id": "d482cd60-39c8-4fff-a3e8-c2e8e6f4cf5d",
   "metadata": {
    "scrolled": true
   },
   "outputs": [],
   "source": [
    "groups = group_subtitles_by_sim(subtitles, 0.7)\n",
    "for x in groups:\n",
    "    for y in x:\n",
    "        print(y, y.time, y.frame)\n",
    "    print(\"\\n\\n\")"
   ]
  },
  {
   "cell_type": "code",
   "execution_count": null,
   "id": "8aed0043-fc25-401d-95eb-4de91a229d1d",
   "metadata": {},
   "outputs": [],
   "source": [
    "def merge_subtitles_groups_by_sim(subtitles_groups, min_sim):\n",
    "    subtitles_groups = subtitles_groups.copy()\n",
    "    i = 0\n",
    "    while i < len(subtitles_groups) - 1:\n",
    "        group = subtitles_groups[i]\n",
    "        next_group = subtitles_groups[i+1]\n",
    "        m = median([x.text.replace(\" \", \"\") for x in group])\n",
    "        next_m = median([x.text.replace(\" \", \"\") for x in next_group])\n",
    "\n",
    "        if ratio(m, next_m) >= min_sim:\n",
    "            group.extend(next_group)\n",
    "            subtitles_groups[i] = group\n",
    "            subtitles_groups.pop(i+1)\n",
    "            continue\n",
    "\n",
    "        i += 1\n",
    "    \n",
    "    return subtitles_groups"
   ]
  },
  {
   "cell_type": "code",
   "execution_count": null,
   "id": "508ce8a5-7ac9-454f-ac3c-7b1814500940",
   "metadata": {},
   "outputs": [],
   "source": [
    "def remove_duplicate_subtitles(subtitles: list, min_sim=0.7):\n",
    "    groups = group_subtitles_by_sim(subtitles, min_sim)\n",
    "    # groups = merge_subtitles_groups_by_sim(groups, min_sim)\n",
    "\n",
    "    result = list()\n",
    "\n",
    "    for g in groups:\n",
    "        s = max(g, key=lambda x: x.confidence)\n",
    "        result.append(s)\n",
    "    return result"
   ]
  },
  {
   "cell_type": "code",
   "execution_count": null,
   "id": "8fe77134-af9d-4d30-89bb-6e4b581772b8",
   "metadata": {},
   "outputs": [],
   "source": [
    "m = remove_duplicate_subtitles(subtitles)\n",
    "print(m)"
   ]
  },
  {
   "cell_type": "code",
   "execution_count": null,
   "id": "c27d50b8-d711-4a85-a180-9bcd80cea083",
   "metadata": {},
   "outputs": [],
   "source": [
    "from IPython.display import Image\n",
    "from matplotlib import pyplot as plt"
   ]
  },
  {
   "cell_type": "code",
   "execution_count": null,
   "id": "73d67fb2-09de-4f26-bc78-668fe3da0f04",
   "metadata": {},
   "outputs": [],
   "source": [
    "es.video.set(cv.CAP_PROP_POS_FRAMES, 9706)\n",
    "ret, frame = es.video.read()\n",
    "# frame = frame[319:343, 104:355]\n",
    "plt.imshow(cv.cvtColor(frame, cv.COLOR_BGR2GRAY))\n",
    "plt.title(\"banana\")\n",
    "plt.show()"
   ]
  },
  {
   "cell_type": "code",
   "execution_count": null,
   "id": "b197b2bc-2f1e-4c11-bc42-5f03cdacbba6",
   "metadata": {},
   "outputs": [],
   "source": [
    "from paddleocr import PaddleOCR"
   ]
  },
  {
   "cell_type": "code",
   "execution_count": null,
   "id": "e3129099-075a-4501-8e53-8e9cc2e8d73c",
   "metadata": {},
   "outputs": [],
   "source": [
    "ocr = PaddleOCR(lang=\"ch\", rec=False)\n",
    "res = ocr.ocr(frame)"
   ]
  },
  {
   "cell_type": "code",
   "execution_count": null,
   "id": "4d2bfa72-a66c-4c10-8256-c4996cc1e405",
   "metadata": {},
   "outputs": [],
   "source": [
    "res[0][2][1]"
   ]
  },
  {
   "cell_type": "code",
   "execution_count": null,
   "id": "bd82469b-9d62-468a-a849-002739fc530d",
   "metadata": {},
   "outputs": [],
   "source": [
    "!pip install shapely"
   ]
  },
  {
   "cell_type": "code",
   "execution_count": null,
   "id": "617c0064-76af-4e30-89f7-69eb1bfcde0f",
   "metadata": {},
   "outputs": [],
   "source": []
  }
 ],
 "metadata": {
  "kernelspec": {
   "display_name": "myenv",
   "language": "python",
   "name": "myenv"
  },
  "language_info": {
   "codemirror_mode": {
    "name": "ipython",
    "version": 3
   },
   "file_extension": ".py",
   "mimetype": "text/x-python",
   "name": "python",
   "nbconvert_exporter": "python",
   "pygments_lexer": "ipython3",
   "version": "3.12.4"
  }
 },
 "nbformat": 4,
 "nbformat_minor": 5
}
